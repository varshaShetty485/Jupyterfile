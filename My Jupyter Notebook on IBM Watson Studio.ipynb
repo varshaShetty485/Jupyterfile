{
  "metadata": {
    "kernelspec": {
      "name": "python",
      "display_name": "Pyolite",
      "language": "python"
    },
    "language_info": {
      "codemirror_mode": {
        "name": "python",
        "version": 3
      },
      "file_extension": ".py",
      "mimetype": "text/x-python",
      "name": "python",
      "nbconvert_exporter": "python",
      "pygments_lexer": "ipython3",
      "version": "3.8"
    }
  },
  "nbformat_minor": 4,
  "nbformat": 4,
  "cells": [
    {
      "cell_type": "markdown",
      "source": "# My Jupyter Notebook on IBM Watson Studio\n",
      "metadata": {
        "tags": []
      }
    },
    {
      "cell_type": "markdown",
      "source": "**Varsha shetty**\n\n",
      "metadata": {}
    },
    {
      "cell_type": "markdown",
      "source": "**I want to be a data scientist because I like getting insights from data**",
      "metadata": {}
    },
    {
      "cell_type": "markdown",
      "source": "### Adding two numbers",
      "metadata": {}
    },
    {
      "cell_type": "code",
      "source": "\ndef summation(n,k):\n    m = n+ k\n    print(m)\n\nsummation(10,2)\n",
      "metadata": {
        "trusted": true
      },
      "execution_count": 22,
      "outputs": [
        {
          "name": "stdout",
          "text": "12\n",
          "output_type": "stream"
        }
      ]
    },
    {
      "cell_type": "markdown",
      "source": "* list 1\n* list 2\n\n1. First ordered list item\n2. Another item\n\n[I'm an inline-style link](https://www.google.com)",
      "metadata": {}
    },
    {
      "cell_type": "code",
      "source": "",
      "metadata": {},
      "execution_count": null,
      "outputs": []
    }
  ]
}